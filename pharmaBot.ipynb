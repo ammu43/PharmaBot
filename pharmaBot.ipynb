{
 "cells": [
  {
   "cell_type": "markdown",
   "source": [
    "INSY 660 Group Project - Pharma Bot for Jean Coutu"
   ],
   "metadata": {
    "collapsed": false
   }
  },
  {
   "cell_type": "code",
   "execution_count": 1,
   "outputs": [
    {
     "name": "stdout",
     "output_type": "stream",
     "text": [
      "Yes, we have Aspirin available. Would you like information on its usage?\n",
      "Our pharmacy closes at 9 PM. Is there anything else I can assist with?\n",
      "While I can suggest common over-the-counter remedies like Paracetamol is commonly used for headaches, pain relief and fever reduction., Always consult a pharmacist or doctor before use.\n",
      "Yes! We're currently offering a 10% discount on vitamins. Would you like more details?\n"
     ]
    }
   ],
   "source": [
    "# Sample data structure to mimic a database\n",
    "\n",
    "data = {\n",
    "    \"medicines\": {\n",
    "        \"Aspirin\": {\n",
    "            \"stock\": True,\n",
    "            \"description\": \"Aspirin is commonly used for pain relief and fever reduction.\",\n",
    "            \"usage\": \"Always consult a pharmacist or doctor before use.\"\n",
    "        },\n",
    "        \"Paracetamol\": {\n",
    "            \"stock\": True,\n",
    "            \"description\": \"Paracetamol is commonly used for headaches, pain relief and fever reduction.\",\n",
    "            \"usage\": \"Always consult a pharmacist or doctor before use.\"\n",
    "        }\n",
    "    },\n",
    "    \"store_info\": {\n",
    "        \"closing_time\": \"9 PM\"\n",
    "    },\n",
    "    \"promotions\": {\n",
    "        \"vitamins\": {\n",
    "            \"discount\": \"10%\",\n",
    "            \"details\": \"We have discounts on brands like ABC and XYZ. This offer is valid until the end of this month.\"\n",
    "        }\n",
    "    }\n",
    "}\n",
    "\n",
    "# Scenario 1: Medication Inquiry\n",
    "\n",
    "def medication_inquiry(medicine_name):\n",
    "    medicine = data[\"medicines\"].get(medicine_name, None)\n",
    "    if medicine:\n",
    "        if medicine[\"stock\"]:\n",
    "            return f\"Yes, we have {medicine_name} available. Would you like information on its usage?\"\n",
    "        else:\n",
    "            return f\"Sorry, we're currently out of stock on {medicine_name}.\"\n",
    "    else:\n",
    "        return \"I'm not sure about that medication. Please consult with a pharmacist.\"\n",
    "\n",
    "# Scenario 2: Store Information\n",
    "\n",
    "def store_information():\n",
    "    return f\"Our pharmacy closes at {data['store_info']['closing_time']}. Is there anything else I can assist with?\"\n",
    "\n",
    "# Scenario 3: General Health Query\n",
    "\n",
    "def general_health_query(symptom):\n",
    "    if symptom == \"headache\":\n",
    "        return f\"While I can suggest common over-the-counter remedies like {data['medicines']['Paracetamol']['description']}, {data['medicines']['Paracetamol']['usage']}\"\n",
    "    else:\n",
    "        return \"It's best to consult with a pharmacist or doctor for your symptoms.\"\n",
    "\n",
    "# Scenario 4: Promotion and New Offerings\n",
    "\n",
    "def current_promotions():\n",
    "    promotion = data[\"promotions\"].get(\"vitamins\", None)\n",
    "    if promotion:\n",
    "        return f\"Yes! We're currently offering a {promotion['discount']} discount on vitamins. Would you like more details?\"\n",
    "    else:\n",
    "        return \"Currently, there are no promotions.\"\n",
    "\n",
    "# Testing the scenarios\n",
    "\n",
    "print(medication_inquiry(\"Aspirin\"))\n",
    "print(store_information())\n",
    "print(general_health_query(\"headache\"))\n",
    "print(current_promotions())"
   ],
   "metadata": {
    "collapsed": false,
    "ExecuteTime": {
     "end_time": "2023-08-14T01:41:43.736350Z",
     "start_time": "2023-08-14T01:41:43.728791Z"
    }
   }
  },
  {
   "cell_type": "code",
   "execution_count": null,
   "outputs": [],
   "source": [],
   "metadata": {
    "collapsed": false
   }
  }
 ],
 "metadata": {
  "kernelspec": {
   "display_name": "Python 3",
   "language": "python",
   "name": "python3"
  },
  "language_info": {
   "codemirror_mode": {
    "name": "ipython",
    "version": 2
   },
   "file_extension": ".py",
   "mimetype": "text/x-python",
   "name": "python",
   "nbconvert_exporter": "python",
   "pygments_lexer": "ipython2",
   "version": "2.7.6"
  }
 },
 "nbformat": 4,
 "nbformat_minor": 0
}
